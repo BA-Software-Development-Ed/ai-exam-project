{
 "cells": [
  {
   "cell_type": "markdown",
   "metadata": {},
   "source": [
    "# Exam Project | Face Recognizer\n",
    "By **Pernille Lørup & Stephan Djurhuus**  \n",
    "Institute **CPHBusiness**  \n",
    "\n",
    "Education **Software Development**  \n",
    "Elective **Artificial Intelligence**  "
   ]
  },
  {
   "cell_type": "markdown",
   "metadata": {},
   "source": [
    "## Package Imports"
   ]
  },
  {
   "cell_type": "code",
   "execution_count": null,
   "metadata": {},
   "outputs": [],
   "source": [
    "import cv2\n",
    "import numpy as np\n",
    "\n",
    "import tensorflow as tf\n",
    "from tensorflow.keras import models, backend\n",
    "from tensorflow.keras.layers import Conv2D, MaxPooling2D, Flatten, Dense, Dropout, Dropout"
   ]
  },
  {
   "cell_type": "markdown",
   "metadata": {},
   "source": [
    "## Module Imports"
   ]
  },
  {
   "cell_type": "code",
   "execution_count": null,
   "metadata": {},
   "outputs": [],
   "source": [
    "import sys\n",
    "sys.path.append('../')\n",
    "from FaceDetector import FaceDetector\n",
    "from FaceRecognizer import FaceRecognizer\n",
    "from DataGenerator import DataGenerator\n",
    "from Utilities import Displayer"
   ]
  },
  {
   "cell_type": "markdown",
   "metadata": {},
   "source": [
    "## Global Constants"
   ]
  },
  {
   "cell_type": "code",
   "execution_count": null,
   "metadata": {},
   "outputs": [],
   "source": [
    "classes = ['dad', 'mom', 'son', 'daughter']\n",
    "\n",
    "dad_path = '../data/PersonGroup/Family1-Dad'\n",
    "mom_path = '../data/PersonGroup/Family1-Mom'\n",
    "son_path = '../data/PersonGroup/Family1-Son'\n",
    "daughter_path = '../data/PersonGroup/Family1-Daughter'"
   ]
  },
  {
   "cell_type": "markdown",
   "metadata": {},
   "source": [
    "## Data Generation"
   ]
  },
  {
   "cell_type": "code",
   "execution_count": null,
   "metadata": {},
   "outputs": [],
   "source": [
    "(train_dad_data, test_dad_data) = DataGenerator.generate(dad_path, 150, label=0, test_size=.2)\n",
    "(train_mom_data, test_mom_data) = DataGenerator.generate(mom_path, 150, label=1, test_size=.2)\n",
    "(train_son_data, test_son_data) = DataGenerator.generate(son_path, 150, label=2, test_size=.2)\n",
    "(train_daughter_data, test_daughter_data) = DataGenerator.generate(daughter_path, 150, label=3, test_size=.2)\n",
    "\n",
    "(train_images, train_labels) = DataGenerator.merge_shuffle([train_dad_data, train_mom_data, train_son_data, train_daughter_data])\n",
    "(test_images, test_labels) = DataGenerator.merge_shuffle([test_dad_data, test_mom_data, test_son_data, test_daughter_data])\n",
    "\n",
    "# greyscalling\n",
    "train_images_gray = np.array([cv2.cvtColor(image, cv2.COLOR_BGR2GRAY) for image in train_images])\n",
    "test_images_gray = np.array([cv2.cvtColor(image, cv2.COLOR_BGR2GRAY) for image in test_images])"
   ]
  },
  {
   "cell_type": "markdown",
   "metadata": {},
   "source": [
    "## Data Validations"
   ]
  },
  {
   "cell_type": "code",
   "execution_count": null,
   "metadata": {},
   "outputs": [],
   "source": [
    "Displayer.images(train_images[200:], 20)\n",
    "Displayer.images(train_images_gray[200:], 20)"
   ]
  },
  {
   "cell_type": "markdown",
   "metadata": {},
   "source": [
    "## Model Configurations"
   ]
  },
  {
   "cell_type": "markdown",
   "metadata": {},
   "source": [
    "### Convolutional Neural Network"
   ]
  },
  {
   "cell_type": "code",
   "execution_count": null,
   "metadata": {},
   "outputs": [],
   "source": [
    "cnn_model = models.Sequential([\n",
    "    Conv2D(25, (3, 3), activation='relu', input_shape=(100, 100, 3)),\n",
    "    Dropout(.2),\n",
    "    MaxPooling2D((2, 2)),\n",
    "    Conv2D(50, (3, 3), activation='relu'),\n",
    "    MaxPooling2D((2, 2)),\n",
    "    Conv2D(50, (3, 3), activation='relu'),\n",
    "    Flatten(),\n",
    "    Dense(50, activation='relu'),\n",
    "    Dense(len(classes))\n",
    "])"
   ]
  },
  {
   "cell_type": "markdown",
   "metadata": {},
   "source": [
    "### Artificial Neural Network\n",
    "\n",
    "**Softmax** ≈ 50% accuracy  \n",
    "**Sigmoid** ≈ 50% accuracy  \n",
    "**TanH** ≈ 50% accuracy"
   ]
  },
  {
   "cell_type": "code",
   "execution_count": null,
   "metadata": {},
   "outputs": [],
   "source": [
    "def positive_softmax(input_data):\n",
    "    relu_data = backend.relu(input_data)        # excluding negative values\n",
    "    softmax_data = backend.softmax(relu_data)   # \n",
    "    return softmax_data\n",
    "\n",
    "ann_model = models.Sequential([\n",
    "    Flatten(input_shape=(100, 100)),\n",
    "    Dense(500, activation='relu'),\n",
    "    Dense(250, activation='sigmoid'),\n",
    "    Dense(len(classes)),\n",
    "])"
   ]
  },
  {
   "cell_type": "markdown",
   "metadata": {},
   "source": [
    "## Face Recognizer Instantiations"
   ]
  },
  {
   "cell_type": "code",
   "execution_count": null,
   "metadata": {},
   "outputs": [],
   "source": [
    "cnn_recognizer = FaceRecognizer(classes, model=cnn_model)\n",
    "ann_recognizer = FaceRecognizer(classes, model=ann_model)"
   ]
  },
  {
   "cell_type": "markdown",
   "metadata": {},
   "source": [
    "## Model Training"
   ]
  },
  {
   "cell_type": "code",
   "execution_count": null,
   "metadata": {},
   "outputs": [],
   "source": [
    "cnn_recognizer.train_model((train_images, train_labels), (test_images, test_labels), epochs=5)\n",
    "# ann_recognizer.train_model((train_images_gray, train_labels), (test_images_gray, test_labels), epochs=15)"
   ]
  },
  {
   "cell_type": "markdown",
   "metadata": {},
   "source": [
    "## Test Model"
   ]
  },
  {
   "cell_type": "code",
   "execution_count": null,
   "metadata": {},
   "outputs": [],
   "source": [
    "# cnn_recognizer.test_model(test_image, test_labels)"
   ]
  },
  {
   "cell_type": "code",
   "execution_count": null,
   "metadata": {},
   "outputs": [],
   "source": [
    "# ann_recognizer.test_model(test_image_gray, test_labels)"
   ]
  },
  {
   "cell_type": "markdown",
   "metadata": {},
   "source": [
    "## Save & Load Model with History"
   ]
  },
  {
   "cell_type": "code",
   "execution_count": null,
   "metadata": {},
   "outputs": [],
   "source": [
    "# cnn_recognizer.save_model('../models/cnn_model_3of4')\n",
    "# cnn_recognizer.load_model('../models/cnn_model_1')"
   ]
  },
  {
   "cell_type": "code",
   "execution_count": null,
   "metadata": {},
   "outputs": [],
   "source": [
    "# ann_recognizer.save_model('../models/ann_model_2of4')\n",
    "ann_recognizer.load_model('../models/ann_model_3of4')"
   ]
  },
  {
   "cell_type": "markdown",
   "metadata": {},
   "source": [
    "## Model Train History"
   ]
  },
  {
   "cell_type": "code",
   "execution_count": null,
   "metadata": {},
   "outputs": [],
   "source": [
    "Displayer.acc_history(cnn_recognizer.history, 'CNN')\n",
    "Displayer.acc_history(ann_recognizer.history, 'ANN')"
   ]
  },
  {
   "cell_type": "markdown",
   "metadata": {},
   "source": [
    "## Model Confusion Matrix"
   ]
  },
  {
   "cell_type": "markdown",
   "metadata": {},
   "source": [
    "### Convolutional Neural Network"
   ]
  },
  {
   "cell_type": "code",
   "execution_count": null,
   "metadata": {},
   "outputs": [],
   "source": [
    "predictions = cnn_recognizer.recognize_many(test_images)\n",
    "Displayer.conf_matrix(predictions, test_labels, 'CNN')"
   ]
  },
  {
   "cell_type": "markdown",
   "metadata": {},
   "source": [
    "### Artificial Neural Network"
   ]
  },
  {
   "cell_type": "code",
   "execution_count": null,
   "metadata": {},
   "outputs": [],
   "source": [
    "predictions = ann_recognizer.recognize_many(test_images_gray)\n",
    "Displayer.conf_matrix(predictions, test_labels, 'ANN')"
   ]
  },
  {
   "cell_type": "markdown",
   "metadata": {},
   "source": [
    "## Model Validations"
   ]
  },
  {
   "cell_type": "code",
   "execution_count": null,
   "metadata": {},
   "outputs": [],
   "source": [
    "test_image_path = '../data/identification1.jpg'\n",
    "test_image = cv2.imread(test_image_path)\n",
    "test_image_gray = cv2.cvtColor(test_image, cv2.COLOR_BGR2GRAY)\n",
    "\n",
    "faceDetector = FaceDetector('FACE_ALT2')\n",
    "faces_data = faceDetector.face_details(test_image)"
   ]
  },
  {
   "cell_type": "markdown",
   "metadata": {},
   "source": [
    "### Convolutional Neural Network"
   ]
  },
  {
   "cell_type": "code",
   "execution_count": null,
   "metadata": {},
   "outputs": [],
   "source": [
    "cnn_prediction_data = cnn_recognizer.face_predictions(faces_data)\n",
    "Displayer.mark_predictions(test_image.copy(), cnn_prediction_data, classes)"
   ]
  },
  {
   "cell_type": "markdown",
   "metadata": {},
   "source": [
    "### Artificial Neural Network"
   ]
  },
  {
   "cell_type": "code",
   "execution_count": null,
   "metadata": {},
   "outputs": [],
   "source": [
    "ann_prediction_data = ann_recognizer.face_predictions(faces_data, gray=True)\n",
    "Displayer.mark_predictions(test_image.copy(), ann_prediction_data, classes)"
   ]
  }
 ],
 "metadata": {
  "language_info": {
   "codemirror_mode": {
    "name": "ipython",
    "version": 3
   },
   "file_extension": ".py",
   "mimetype": "text/x-python",
   "name": "python",
   "nbconvert_exporter": "python",
   "pygments_lexer": "ipython3",
   "version": "3.7.4-final"
  },
  "orig_nbformat": 2,
  "kernelspec": {
   "name": "python3",
   "display_name": "Python 3"
  }
 },
 "nbformat": 4,
 "nbformat_minor": 2
}