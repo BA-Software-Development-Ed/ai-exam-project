{
 "cells": [
  {
   "cell_type": "markdown",
   "metadata": {},
   "source": [
    "# Exam Project | Face Detector\n",
    "By **Pernille Lørup & Stephan Djurhuus**  \n",
    "Institute **CPHBusiness**  \n",
    "\n",
    "Education **Software Development**  \n",
    "Elective **Artificial Intelligence**  \n",
    "\n",
    "## The Content\n",
    "## The Theory\n",
    "## The Source"
   ]
  },
  {
   "cell_type": "code",
   "execution_count": 2,
   "metadata": {},
   "outputs": [],
   "source": [
    "import cv2"
   ]
  },
  {
   "cell_type": "code",
   "execution_count": 3,
   "metadata": {},
   "outputs": [],
   "source": [
    "class FaceDetector:\n",
    "    \"\"\"some info\"\"\"\n",
    "\n",
    "    classifier = None\n",
    "\n",
    "    classifier_paths = {\n",
    "        'CAT_EXTENDED': '../cascade-classifiers/haarcascade_frontalcatface_extended.xml',\n",
    "        'CAT':'../cascade-classifiers/haarcascade_frontalcatface.xml',\n",
    "        'FACE_ALT': '../cascade-classifiers/haarcascade_frontalface_alt.xml',         # works!\n",
    "        'FACE_ALT2': '../cascade-classifiers/haarcascade_frontalface_alt2.xml',       # works!\n",
    "        'FACE_DEFAULT': '../cascade-classifiers/haarcascade_frontalface_default.xml', # works best!\n",
    "    }\n",
    "\n",
    "    def __init__(self, classifier_type):\n",
    "        classifier_path = self.classifier_paths[classifier_type]\n",
    "        self.classifier = cv2.CascadeClassifier(classifier_path)\n",
    "\n",
    "    def crop(self, image):\n",
    "        image_grayscaled = cv2.cvtColor(image, cv2.COLOR_BGR2GRAY)\n",
    "        detected_faces = self.classifier.detectMultiScale(image_grayscaled)\n",
    "        (x, y, w, h) = detected_faces[0]\n",
    "        cropped_image = image[y:y+h, x:x+w]\n",
    "        return cropped_image\n",
    "\n",
    "    def detect(self, image):\n",
    "        image_grayscaled = cv2.cvtColor(image, cv2.COLOR_BGR2GRAY)\n",
    "        detected_faces = self.classifier.detectMultiScale(image_grayscaled)\n",
    "        (x, y, w, h) = detected_faces[0]\n",
    "        cv2.rectangle(image, (x, y), (x+w, y+h), (255, 0, 0), 2)\n",
    "        return image"
   ]
  },
  {
   "cell_type": "code",
   "execution_count": 3,
   "metadata": {},
   "outputs": [],
   "source": [
    "image_path = '../storage/profil-1.png'\n",
    "image = cv2.imread(image_path)\n",
    "\n",
    "face_detector = FaceDetector('FACE_DEFAULT')\n",
    "crop_image = face_detector.crop(image)\n",
    "face_image = face_detector.detect(image)\n",
    "\n",
    "cv2.imshow('tosse bandit', face_image)\n",
    "cv2.imshow('tosse crop', crop_image)\n",
    "cv2.waitKey()"
   ]
  },
  {
   "cell_type": "code",
   "execution_count": null,
   "metadata": {},
   "outputs": [],
   "source": []
  }
 ],
 "metadata": {
  "language_info": {
   "codemirror_mode": {
    "name": "ipython",
    "version": 3
   },
   "file_extension": ".py",
   "mimetype": "text/x-python",
   "name": "python",
   "nbconvert_exporter": "python",
   "pygments_lexer": "ipython3",
   "version": "3.7.4-final"
  },
  "orig_nbformat": 2,
  "kernelspec": {
   "name": "python3",
   "display_name": "Python 3"
  }
 },
 "nbformat": 4,
 "nbformat_minor": 2
}